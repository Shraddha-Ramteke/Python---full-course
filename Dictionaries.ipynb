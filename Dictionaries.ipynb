{
  "nbformat": 4,
  "nbformat_minor": 0,
  "metadata": {
    "colab": {
      "name": "Dictionaries.ipynb",
      "provenance": [],
      "collapsed_sections": [],
      "authorship_tag": "ABX9TyNuUCwVLGxa6SRNFqHIkjOU",
      "include_colab_link": true
    },
    "kernelspec": {
      "name": "python3",
      "display_name": "Python 3"
    },
    "language_info": {
      "name": "python"
    }
  },
  "cells": [
    {
      "cell_type": "markdown",
      "metadata": {
        "id": "view-in-github",
        "colab_type": "text"
      },
      "source": [
        "<a href=\"https://colab.research.google.com/github/Shraddha-Ramteke/Python-For-Everybody/blob/main/Dictionaries.ipynb\" target=\"_parent\"><img src=\"https://colab.research.google.com/assets/colab-badge.svg\" alt=\"Open In Colab\"/></a>"
      ]
    },
    {
      "cell_type": "markdown",
      "source": [
        "# **Dictionaries**\n",
        "#                    A dictionary is like a list, but more general. In a list, the index positions have to be integers; in a dictionary, the indices can be (almost) any type. You can think of a dictionary as a mapping between a set of indices (which are called keys) and a set of values. Each key maps to a value. The association of a key and a value is called a key-value pair or sometimes an item.\n",
        "\n",
        "\n",
        "\n",
        "\n",
        "\n"
      ],
      "metadata": {
        "id": "_eBu8qCzzRIc"
      }
    },
    {
      "cell_type": "code",
      "source": [
        "purse= dict()\n",
        "purse['money'] = 12\n",
        "purse['candy'] = 3\n",
        "purse['tissues'] = 75\n",
        "print(purse)\n",
        "{'money': 12 ,'tissues': 75 ,'candy' : 3 }  \n",
        "print(purse['candy'])\n",
        "purse['candy']= purse['candy']+2\n",
        "print(purse)"
      ],
      "metadata": {
        "colab": {
          "base_uri": "https://localhost:8080/"
        },
        "id": "cD9c_tGYNQNL",
        "outputId": "2de99ee7-94ea-4d35-da38-3841b6881b41"
      },
      "execution_count": 6,
      "outputs": [
        {
          "output_type": "stream",
          "name": "stdout",
          "text": [
            "{'money': 12, 'candy': 3, 'tissues': 75}\n",
            "3\n",
            "{'money': 12, 'candy': 5, 'tissues': 75}\n"
          ]
        }
      ]
    },
    {
      "cell_type": "markdown",
      "source": [
        "# **Dictionaries Literal ( Constant )**\n",
        "#              It uses curly braces and have a list of key : values pairs.\n",
        "\n",
        "\n"
      ],
      "metadata": {
        "id": "HOLfNtk7R5BR"
      }
    },
    {
      "cell_type": "code",
      "execution_count": 8,
      "metadata": {
        "colab": {
          "base_uri": "https://localhost:8080/"
        },
        "id": "KJZvfgZrzMm3",
        "outputId": "f2984951-a4ff-4ee8-d358-3c3de3bb5122"
      },
      "outputs": [
        {
          "output_type": "stream",
          "name": "stdout",
          "text": [
            "{'chuck': 1, 'fred': 42, 'jan': 100}\n",
            "{}\n"
          ]
        }
      ],
      "source": [
        "jjj = {'chuck': 1,'fred': 42,'jan': 100} \n",
        "print (jjj)\n",
        "{'jan': 100,'chuck': 1,'fred': 42} \n",
        "ooo = {}                             #for empty dictionary\n",
        "print(ooo)\n"
      ]
    },
    {
      "cell_type": "markdown",
      "source": [
        "# **Counting**\n",
        "              "
      ],
      "metadata": {
        "id": "zYnJKf3-UlCb"
      }
    },
    {
      "cell_type": "code",
      "source": [
        "ccc = dict()\n",
        "ccc['csev'] = 1\n",
        "ccc['cwen'] = 1\n",
        "print(ccc)\n",
        "\n",
        "ccc['cwen'] = ccc['cwen'] + 1\n",
        "print(ccc)"
      ],
      "metadata": {
        "colab": {
          "base_uri": "https://localhost:8080/"
        },
        "id": "t-SBhPE-UwjG",
        "outputId": "3a481c80-a580-440e-837a-50091fd5deee"
      },
      "execution_count": 9,
      "outputs": [
        {
          "output_type": "stream",
          "name": "stdout",
          "text": [
            "{'csev': 1, 'cwen': 1}\n",
            "{'csev': 1, 'cwen': 2}\n"
          ]
        }
      ]
    },
    {
      "cell_type": "markdown",
      "source": [
        "# **When we see a new name**\n",
        "#                           When we encounter a new name , we need to add a new entry in dictionary and if this the second or later time we have seen the name , we simply add 1 to the count in the dictionary under that name ."
      ],
      "metadata": {
        "id": "uaO7a5fOV-GT"
      }
    },
    {
      "cell_type": "code",
      "source": [
        "count = dict()\n",
        "names = ['john','marry','chuck','harry']\n",
        "for name in names :\n",
        "  count[name] = 1\n",
        "else :\n",
        "  count[name]=count[name]+1\n",
        "print(count) \n"
      ],
      "metadata": {
        "colab": {
          "base_uri": "https://localhost:8080/"
        },
        "id": "8fIHBz7VWmYl",
        "outputId": "d5644f19-b431-49dc-8025-3b5ae2d5f902"
      },
      "execution_count": 10,
      "outputs": [
        {
          "output_type": "stream",
          "name": "stdout",
          "text": [
            "{'john': 1, 'marry': 1, 'chuck': 1, 'harry': 2}\n"
          ]
        }
      ]
    },
    {
      "cell_type": "markdown",
      "source": [
        "# **The get method for dictionaries**\n",
        "#                                   The pattern of checking to see if a key is already in a dictionary and assuming a default value if the key is not there is so common that there is a method called get() that does this for us .\n",
        "#                                   We can ues get() and provide a default value of zero when the key is not yet in the dictionary and then just add one .\n"
      ],
      "metadata": {
        "id": "0ZkzOTKwYzlz"
      }
    },
    {
      "cell_type": "code",
      "source": [
        "count = dict()\n",
        "names = ['john','marry','chuck','harry']\n",
        "for name in names :\n",
        "  count[name] = 1\n",
        "else :\n",
        "  count[name]=count.get(name,0)+1\n",
        "print(count) \n"
      ],
      "metadata": {
        "colab": {
          "base_uri": "https://localhost:8080/"
        },
        "id": "J4N58KFzZZdR",
        "outputId": "83d9726b-76c9-4b88-8ece-278eb33a3c15"
      },
      "execution_count": 15,
      "outputs": [
        {
          "output_type": "stream",
          "name": "stdout",
          "text": [
            "{'john': 1, 'marry': 1, 'chuck': 1, 'harry': 2}\n"
          ]
        }
      ]
    },
    {
      "cell_type": "markdown",
      "source": [
        "# **Counting words in Text**"
      ],
      "metadata": {
        "id": "45qzgkqncngt"
      }
    },
    {
      "cell_type": "code",
      "source": [
        "count = dict()\n",
        "print(\"Enter a line of text :\")\n",
        "line = input('')\n",
        "\n",
        "words = line.split()\n",
        "print('Words :',words)\n",
        "\n",
        "print('counting....')\n",
        "for word in words :\n",
        "  count[word] = count.get(word,0)+1\n",
        "print('count',count)  \n",
        "   "
      ],
      "metadata": {
        "colab": {
          "base_uri": "https://localhost:8080/"
        },
        "id": "rEJ8gxYgcume",
        "outputId": "3e452250-5173-4669-de19-268848f580d9"
      },
      "execution_count": 16,
      "outputs": [
        {
          "output_type": "stream",
          "name": "stdout",
          "text": [
            "Enter a line of text :\n",
            "the clown ran after the car and the car ran into the tent and the tent fell down on the clown and the car\n",
            "Words : ['the', 'clown', 'ran', 'after', 'the', 'car', 'and', 'the', 'car', 'ran', 'into', 'the', 'tent', 'and', 'the', 'tent', 'fell', 'down', 'on', 'the', 'clown', 'and', 'the', 'car']\n",
            "counting....\n",
            "count {'the': 7, 'clown': 2, 'ran': 2, 'after': 1, 'car': 3, 'and': 3, 'into': 1, 'tent': 2, 'fell': 1, 'down': 1, 'on': 1}\n"
          ]
        }
      ]
    },
    {
      "cell_type": "markdown",
      "source": [
        "# **Definite Loop and Dictionaries**\n",
        "#                                     Even through dictionaries are not stored in order, are can write a for loop that goes through all the entries in a dictionaries. actually it goes through all of the keys in the dictionaries and looks up the values."
      ],
      "metadata": {
        "id": "X_GX_YDKgJKE"
      }
    },
    {
      "cell_type": "code",
      "source": [
        "count = {'chuck': 1,'fred': 42,'jan': 100} \n",
        "for key in count :\n",
        "  print(key,count[key])"
      ],
      "metadata": {
        "colab": {
          "base_uri": "https://localhost:8080/"
        },
        "id": "-b2EjHFUhHDc",
        "outputId": "e13ca999-4f29-41e9-abb2-f8a5b0e29bd8"
      },
      "execution_count": 17,
      "outputs": [
        {
          "output_type": "stream",
          "name": "stdout",
          "text": [
            "chuck 1\n",
            "fred 42\n",
            "jan 100\n"
          ]
        }
      ]
    },
    {
      "cell_type": "markdown",
      "source": [
        "# **Retrieving Lists of keys and values**\n",
        "#                                         You can get a list of keys, values or items (both) from a dictionary.\n"
      ],
      "metadata": {
        "id": "346NFvV5hzWI"
      }
    },
    {
      "cell_type": "code",
      "source": [
        "jjj = {'chuck': 1,'fred': 42,'jan': 100} \n",
        "print(list(jjj))\n",
        "['jan','chuck','fred']\n",
        "print(jjj.keys())\n",
        "['jan','chuck','fred']\n",
        "print(jjj.values())\n",
        "[100,1,42]\n",
        "print(jjj.items())\n",
        "[('jan',100),('chuck',1),('fred',42)]"
      ],
      "metadata": {
        "colab": {
          "base_uri": "https://localhost:8080/"
        },
        "id": "NTXA9mRFjWNu",
        "outputId": "0ca6a15e-a72c-4d3e-b3f8-759ee0c7dd9a"
      },
      "execution_count": 18,
      "outputs": [
        {
          "output_type": "stream",
          "name": "stdout",
          "text": [
            "['chuck', 'fred', 'jan']\n",
            "dict_keys(['chuck', 'fred', 'jan'])\n",
            "dict_values([1, 42, 100])\n",
            "dict_items([('chuck', 1), ('fred', 42), ('jan', 100)])\n"
          ]
        },
        {
          "output_type": "execute_result",
          "data": {
            "text/plain": [
              "[('jan', 100), ('chuck', 1), ('fred', 42)]"
            ]
          },
          "metadata": {},
          "execution_count": 18
        }
      ]
    },
    {
      "cell_type": "markdown",
      "source": [
        "# **Bonus : Two iteration Variables**\n",
        "#                                   We loop through the key-value pairs in a dictionary using \"two\" iteration variable."
      ],
      "metadata": {
        "id": "rAMUmmDglTYo"
      }
    },
    {
      "cell_type": "code",
      "source": [
        "jjj = {'chuck': 1,'fred': 42,'jan': 100}\n",
        "for aaa,bbb in jjj.items () :\n",
        "  print(aaa,bbb)\n",
        "\n"
      ],
      "metadata": {
        "colab": {
          "base_uri": "https://localhost:8080/"
        },
        "id": "rXgKanDjly0j",
        "outputId": "41fe5cc3-5258-4592-90c1-d25c7cc67539"
      },
      "execution_count": 19,
      "outputs": [
        {
          "output_type": "stream",
          "name": "stdout",
          "text": [
            "chuck 1\n",
            "fred 42\n",
            "jan 100\n"
          ]
        }
      ]
    }
  ]
}
{
  "nbformat": 4,
  "nbformat_minor": 0,
  "metadata": {
    "colab": {
      "name": "Copy of Untitled10.ipynb",
      "provenance": [],
      "collapsed_sections": [],
      "authorship_tag": "ABX9TyOL9JwhRHKAikK7KBQqhD6b",
      "include_colab_link": true
    },
    "kernelspec": {
      "name": "python3",
      "display_name": "Python 3"
    },
    "language_info": {
      "name": "python"
    }
  },
  "cells": [
    {
      "cell_type": "markdown",
      "metadata": {
        "id": "view-in-github",
        "colab_type": "text"
      },
      "source": [
        "<a href=\"https://colab.research.google.com/github/Shraddha-Ramteke/Python-For-Everybody/blob/main/Python%20Lists.ipynb\" target=\"_parent\"><img src=\"https://colab.research.google.com/assets/colab-badge.svg\" alt=\"Open In Colab\"/></a>"
      ]
    },
    {
      "cell_type": "markdown",
      "source": [
        "# **Working with list \"[ ]\"->**"
      ],
      "metadata": {
        "id": "3cBtF49I-h0k"
      }
    },
    {
      "cell_type": "code",
      "execution_count": null,
      "metadata": {
        "colab": {
          "base_uri": "https://localhost:8080/"
        },
        "id": "O8eOcoZQ-PeG",
        "outputId": "1ab7c715-b6c5-45e7-afa6-437cc5114a55"
      },
      "outputs": [
        {
          "output_type": "stream",
          "name": "stdout",
          "text": [
            "['Dora', 'Pikka', 'Shinchan']\n"
          ]
        }
      ],
      "source": [
        "Friends = [\"Dora\",\"Pikka\",\"Shinchan\"]\n",
        "print(Friends)"
      ]
    },
    {
      "cell_type": "markdown",
      "source": [
        "# To print specific element from the list"
      ],
      "metadata": {
        "id": "2N0n0pVj_izU"
      }
    },
    {
      "cell_type": "code",
      "source": [
        "Friends = [\"Dora\",\"Pikka\",\"Shinchan\"]\n",
        "print(Friends[0])                           # refer elements by thier Index "
      ],
      "metadata": {
        "colab": {
          "base_uri": "https://localhost:8080/"
        },
        "id": "HPL3TuCG_g3n",
        "outputId": "37568475-97c5-41b3-b061-c272079d866f"
      },
      "execution_count": null,
      "outputs": [
        {
          "output_type": "stream",
          "name": "stdout",
          "text": [
            "Dora\n"
          ]
        }
      ]
    },
    {
      "cell_type": "code",
      "source": [
        "Friends = [\"Dora\",\"Pikka\",\"Shinchan\"]\n",
        "print(Friends[0:2])                          # skip the last element"
      ],
      "metadata": {
        "colab": {
          "base_uri": "https://localhost:8080/"
        },
        "id": "O3t1SGbgAVSf",
        "outputId": "84ef9879-f620-4cae-a43a-bbdf619eb184"
      },
      "execution_count": null,
      "outputs": [
        {
          "output_type": "stream",
          "name": "stdout",
          "text": [
            "['Dora', 'Pikka']\n"
          ]
        }
      ]
    },
    {
      "cell_type": "markdown",
      "source": [
        "# List Function ->"
      ],
      "metadata": {
        "id": "8L42KFReAzVA"
      }
    },
    {
      "cell_type": "code",
      "source": [
        "lucky_number = [4,8,5,6,10]\n",
        "Friends = [\"Dora\",\"Pikka\",\"Shinchan\"]\n",
        "Friends.extend(lucky_number)\n",
        "print(Friends)                                 # to extend a list"
      ],
      "metadata": {
        "colab": {
          "base_uri": "https://localhost:8080/"
        },
        "id": "DnO61xIAAqFb",
        "outputId": "d7c61bdb-af00-4c52-d9e3-c4bf22a06c7e"
      },
      "execution_count": null,
      "outputs": [
        {
          "output_type": "stream",
          "name": "stdout",
          "text": [
            "['Dora', 'Pikka', 'Shinchan', 4, 8, 5, 6, 10]\n"
          ]
        }
      ]
    },
    {
      "cell_type": "code",
      "source": [
        "lucky_number = [4,8,5,6,10]\n",
        "Friends = [\"Dora\",\"Pikka\",\"Shinchan\"]\n",
        "Friends.append(\"Shiro\")\n",
        "print(Friends)                                 # to add another char in list"
      ],
      "metadata": {
        "colab": {
          "base_uri": "https://localhost:8080/"
        },
        "id": "SQHF0gJ1C7Gj",
        "outputId": "3e72f5fe-0aee-4a7b-ceec-7df0d0dd3ec0"
      },
      "execution_count": null,
      "outputs": [
        {
          "output_type": "stream",
          "name": "stdout",
          "text": [
            "['Dora', 'Pikka', 'Shinchan', 'Shiro']\n"
          ]
        }
      ]
    },
    {
      "cell_type": "code",
      "source": [
        "lucky_number = [4,8,5,6,10]\n",
        "Friends = [\"Dora\",\"Pikka\",\"Shinchan\"]\n",
        "Friends.insert(1 ,\"Himawari\")\n",
        "print(Friends)                                # to add new char in middle of  the list"
      ],
      "metadata": {
        "colab": {
          "base_uri": "https://localhost:8080/"
        },
        "id": "r6-TXOquD1dq",
        "outputId": "3fec449d-c2d0-493d-da42-61f448fe3209"
      },
      "execution_count": null,
      "outputs": [
        {
          "output_type": "stream",
          "name": "stdout",
          "text": [
            "['Dora', 'Himawari', 'Pikka', 'Shinchan']\n"
          ]
        }
      ]
    },
    {
      "cell_type": "code",
      "source": [
        "lucky_number = [4,8,5,6,10]\n",
        "Friends = [\"Dora\",\"Pikka\",\"Shinchan\"]\n",
        "Friends.remove(\"Dora\")\n",
        "print(Friends)                                # to remove char from list"
      ],
      "metadata": {
        "colab": {
          "base_uri": "https://localhost:8080/"
        },
        "id": "RYynZRvbEXLq",
        "outputId": "a8ce1b97-6c33-49c2-84d7-21e100d0275c"
      },
      "execution_count": null,
      "outputs": [
        {
          "output_type": "stream",
          "name": "stdout",
          "text": [
            "['Pikka', 'Shinchan']\n"
          ]
        }
      ]
    },
    {
      "cell_type": "code",
      "source": [
        "lucky_number = [4,8,5,6,10]\n",
        "Friends = [\"Dora\",\"Pikka\",\"Shinchan\"]\n",
        "Friends.pop()\n",
        "print(Friends)                                # to remove last element from list"
      ],
      "metadata": {
        "colab": {
          "base_uri": "https://localhost:8080/"
        },
        "id": "HYwE6TQ3ElCK",
        "outputId": "8408c177-1e27-463e-e7cf-6df3590205c8"
      },
      "execution_count": null,
      "outputs": [
        {
          "output_type": "stream",
          "name": "stdout",
          "text": [
            "['Dora', 'Pikka']\n"
          ]
        }
      ]
    },
    {
      "cell_type": "code",
      "source": [
        "lucky_number = [4,8,5,6,10]\n",
        "Friends = [\"Dora\",\"Shinchan\",\"Pikka\"]\n",
        "Friends.sort()\n",
        "print(Friends)                                # to put list in alphabetical order"
      ],
      "metadata": {
        "colab": {
          "base_uri": "https://localhost:8080/"
        },
        "id": "Ak_gKaSyE1YT",
        "outputId": "2317e6ee-ab3a-4462-c0ce-e07ce6df374c"
      },
      "execution_count": null,
      "outputs": [
        {
          "output_type": "stream",
          "name": "stdout",
          "text": [
            "['Dora', 'Pikka', 'Shinchan']\n"
          ]
        }
      ]
    },
    {
      "cell_type": "code",
      "source": [
        "lucky_number = [4,8,5,6,10]\n",
        "Friends = [\"Dora\",\"Pikka\",\"Shinchan\"]\n",
        "Friends.reverse()\n",
        "print(Friends)                                # to reverse the list"
      ],
      "metadata": {
        "colab": {
          "base_uri": "https://localhost:8080/"
        },
        "id": "-terGFUaFeCo",
        "outputId": "b4331cf1-9617-431b-b39e-5d112650a7e7"
      },
      "execution_count": null,
      "outputs": [
        {
          "output_type": "stream",
          "name": "stdout",
          "text": [
            "['Shinchan', 'Pikka', 'Dora']\n"
          ]
        }
      ]
    },
    {
      "cell_type": "code",
      "source": [
        "lucky_number = [4,8,5,6,10]\n",
        "Friends = [\"Dora\",\"Pikka\",\"Shinchan\"]\n",
        "\n",
        "print(Friends.index(\"Pikka\"))                 # to find Index of element"
      ],
      "metadata": {
        "colab": {
          "base_uri": "https://localhost:8080/"
        },
        "id": "4Fj8CEeiFsj9",
        "outputId": "fb7bcb82-b4f0-4e2f-fce6-97bed2220c8d"
      },
      "execution_count": null,
      "outputs": [
        {
          "output_type": "stream",
          "name": "stdout",
          "text": [
            "1\n"
          ]
        }
      ]
    },
    {
      "cell_type": "code",
      "source": [
        "lucky_number = [4,8,5,6,10]\n",
        "Friends = [\"Dora\",\"Pikka\",\"Shinchan\",\"Dora\"]\n",
        "\n",
        "print(Friends.count(\"Dora\"))                     # count the number of similar elements"
      ],
      "metadata": {
        "colab": {
          "base_uri": "https://localhost:8080/"
        },
        "id": "dO6WAfUdGO-J",
        "outputId": "b5bfceac-3198-4da1-97ae-7b9b6872468b"
      },
      "execution_count": null,
      "outputs": [
        {
          "output_type": "stream",
          "name": "stdout",
          "text": [
            "2\n"
          ]
        }
      ]
    },
    {
      "cell_type": "code",
      "source": [
        "lucky_number = [4,8,5,6,10]\n",
        "Friends = [\"Dora\",\"Pikka\",\"Shinchan\"]\n",
        "Friends.clear()\n",
        "print(Friends)                                   # for empty list"
      ],
      "metadata": {
        "colab": {
          "base_uri": "https://localhost:8080/"
        },
        "id": "X_b3ZH9OGrap",
        "outputId": "cc7f84e3-37d0-4da8-a885-b1f34230f2e4"
      },
      "execution_count": null,
      "outputs": [
        {
          "output_type": "stream",
          "name": "stdout",
          "text": [
            "[]\n"
          ]
        }
      ]
    },
    {
      "cell_type": "markdown",
      "source": [
        ""
      ],
      "metadata": {
        "id": "lmr49hnY_hhb"
      }
    }
  ]
}
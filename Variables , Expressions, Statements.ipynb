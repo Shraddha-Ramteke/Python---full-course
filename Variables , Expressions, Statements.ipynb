{
  "nbformat": 4,
  "nbformat_minor": 0,
  "metadata": {
    "colab": {
      "name": "Untitled2.ipynb",
      "provenance": [],
      "collapsed_sections": [],
      "authorship_tag": "ABX9TyNtB+oKCR2qy6yL8Ge8KbMY",
      "include_colab_link": true
    },
    "kernelspec": {
      "name": "python3",
      "display_name": "Python 3"
    },
    "language_info": {
      "name": "python"
    }
  },
  "cells": [
    {
      "cell_type": "markdown",
      "metadata": {
        "id": "view-in-github",
        "colab_type": "text"
      },
      "source": [
        "<a href=\"https://colab.research.google.com/github/Shraddha-Ramteke/Python-For-Everybody/blob/main/Variables%20%2C%20Expressions%2C%20Statements.ipynb\" target=\"_parent\"><img src=\"https://colab.research.google.com/assets/colab-badge.svg\" alt=\"Open In Colab\"/></a>"
      ]
    },
    {
      "cell_type": "markdown",
      "source": [
        "***2: Variables, Expressions, and Statements***\n",
        "\n",
        "# Variables -> \n",
        "    One of the most powerful features of a programming language is the ability to manipulate variables. A variable is a name that refers to a value.\n",
        "# Expressions ->\n",
        "    An expression is a combination of values, variables, and operators. A value all by itself is considered an expression, and so is a variable.\n",
        "# Statements ->\n",
        "    A statement is a unit of code that the Python interpreter can execute. We have seen two kinds of statements: expression statement with \"print\" and assignment.\n",
        "\n",
        "   \n",
        "\n"
      ],
      "metadata": {
        "id": "wzSH3bM56JBA"
      }
    },
    {
      "cell_type": "code",
      "source": [
        "1.# Write a program that uses input to prompt a user for their name and then welcomes them.\n",
        "name = input(\"Enter your name : \")\n",
        "print (\" Hello \" + name +  \" Welcome to Konverge.ai \")"
      ],
      "metadata": {
        "colab": {
          "base_uri": "https://localhost:8080/"
        },
        "id": "5RFarjKH8BRp",
        "outputId": "8b813d4c-0f83-4e7a-c7cc-0224d0bf678a"
      },
      "execution_count": null,
      "outputs": [
        {
          "output_type": "stream",
          "name": "stdout",
          "text": [
            "Enter your name : Shraddha\n",
            " Hello Shraddha Welcome to Konverge.ai \n"
          ]
        }
      ]
    },
    {
      "cell_type": "code",
      "execution_count": null,
      "metadata": {
        "colab": {
          "base_uri": "https://localhost:8080/"
        },
        "id": "foZtKqYJ5_NR",
        "outputId": "0bb14fad-441f-4737-f57e-de8f23cb05f0"
      },
      "outputs": [
        {
          "output_type": "stream",
          "name": "stdout",
          "text": [
            "96.25\n"
          ]
        }
      ],
      "source": [
        "2.# Write a program to prompt the user for hours and rate per hour to compute gross pay.\n",
        " # Enter Hours: 35\n",
        "# Enter Rate: 2.75\n",
        "# Pay: 96.25 \n",
        "\n",
        "hrs = 35\n",
        "rate = 2.75\n",
        "pay = float (hrs)* float (rate)\n",
        "print (pay)"
      ]
    },
    {
      "cell_type": "code",
      "source": [
        "3. # Write a program which prompts the user for a Celsius temperature, convert the temperature to Fahrenheit, and print out the converted temperature.\n",
        "\n",
        "celsius = float(input(\"Enter temperature in celsius: \"))\n",
        "fahrenheit = (celsius * 9/5) + 32\n",
        "print('%.2f Celsius is: %0.2f Fahrenheit' %(celsius, fahrenheit))\n",
        "\n",
        "\n",
        "\n"
      ],
      "metadata": {
        "colab": {
          "base_uri": "https://localhost:8080/"
        },
        "id": "sUCK9JHLAvO7",
        "outputId": "27ba4d0e-a567-486e-d8b5-8262a1cfd263"
      },
      "execution_count": null,
      "outputs": [
        {
          "output_type": "stream",
          "name": "stdout",
          "text": [
            "Enter temperature in celsius: 9\n",
            "9.00 Celsius is: 48.20 Fahrenheit\n"
          ]
        }
      ]
    },
    {
      "cell_type": "markdown",
      "source": [
        ""
      ],
      "metadata": {
        "id": "RSOSuvIL6HLX"
      }
    }
  ]
}
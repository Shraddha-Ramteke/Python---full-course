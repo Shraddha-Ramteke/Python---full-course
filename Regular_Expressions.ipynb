{
  "nbformat": 4,
  "nbformat_minor": 0,
  "metadata": {
    "colab": {
      "name": "Regular Expressions.ipynb",
      "provenance": [],
      "collapsed_sections": [],
      "authorship_tag": "ABX9TyMUL8IFdbnQe23YW9nDZes9",
      "include_colab_link": true
    },
    "kernelspec": {
      "name": "python3",
      "display_name": "Python 3"
    },
    "language_info": {
      "name": "python"
    }
  },
  "cells": [
    {
      "cell_type": "markdown",
      "metadata": {
        "id": "view-in-github",
        "colab_type": "text"
      },
      "source": [
        "<a href=\"https://colab.research.google.com/github/Shraddha-Ramteke/Python-For-Everybody/blob/main/Regular_Expressions.ipynb\" target=\"_parent\"><img src=\"https://colab.research.google.com/assets/colab-badge.svg\" alt=\"Open In Colab\"/></a>"
      ]
    },
    {
      "cell_type": "markdown",
      "source": [
        "# **Regular Expressions**\n",
        "#                     This task of searching and extracting is so common that Python has a very powerful library called regular expressions that handles many of these tasks quite elegantly. Regular expressions are almost their own little programming language for searching and parsing strings. The power of the regular expressions comes when we add special characters to the search string that allow us to more precisely control which lines match the string. Adding these special characters to our regular expression allow us to do sophisticated matching and extraction while writing very little code.\n",
        "\n",
        "\n"
      ],
      "metadata": {
        "id": "JMwiLZ2Oo39a"
      }
    },
    {
      "cell_type": "markdown",
      "source": [
        "# **Regular Expressions Quick Guide **\n",
        "#1. \"^\" - Matches the beginning of a line.\n",
        "#2. \"$\" - Matches the end of a line.\n",
        "#3. \".\" - Matches any Character.\n",
        "#4. \"\\s\" - Matches any Whitespace.\n",
        "#5. \"\\S\" - Matches any Non-Whitespace Character.\n",
        "#6. \"*\" - Repeats a Character zero or more times.\n",
        "#7. \"*?\" - Repeats a Character zero or more times (non-greedy).\n",
        "#8. \"+\" - Repeats a Character one or more times.\n",
        "#9. \"+?\" - Repeats a Character one or more times (non-greedy).\n",
        "#10.\"[aeiou]\" - Matches a single character in the listed set.\n",
        "#11. \"[^XYZ]\" -  Matches a single character not in the listed set.\n",
        "#12. \"[a-z0-9]\" - The set of Character can include a range.\n",
        "#13. \"(\" - Indicates where string extraction is to start.\n",
        "#14. \")\" - Indicates where string extraction is to end.\n"
      ],
      "metadata": {
        "id": "mfi1QlWfvYgU"
      }
    },
    {
      "cell_type": "markdown",
      "source": [
        "# **Matching and Extracting Data**\n",
        "#                                   re.search() returns a True/False depending on wheather the string matches the regular expression.\n",
        "#                                   If we actually want the matching string to be extracted we use re.findall()"
      ],
      "metadata": {
        "id": "jIjXVYdD0aZz"
      }
    },
    {
      "cell_type": "code",
      "source": [
        "import re\n",
        "x = 'My 2 favorite numbers are 19 and 42'\n",
        "y = re.findall('[0-9]+',x)\n",
        "print(y)"
      ],
      "metadata": {
        "colab": {
          "base_uri": "https://localhost:8080/"
        },
        "id": "UEUvM_79p2hx",
        "outputId": "39a160b3-40a1-4af9-a0d2-8e8b22bf74fd"
      },
      "execution_count": 6,
      "outputs": [
        {
          "output_type": "stream",
          "name": "stdout",
          "text": [
            "['2', '19', '42']\n"
          ]
        }
      ]
    },
    {
      "cell_type": "markdown",
      "source": [
        "# When we use re.findall() , it returns a list of zero or more sub-strings that matches the regular expression."
      ],
      "metadata": {
        "id": "SHUKoZPU2Ryl"
      }
    },
    {
      "cell_type": "code",
      "execution_count": 7,
      "metadata": {
        "colab": {
          "base_uri": "https://localhost:8080/"
        },
        "id": "i-Y2RobxorzG",
        "outputId": "423e59f5-77d3-44b1-8d74-afa5ed46204e"
      },
      "outputs": [
        {
          "output_type": "stream",
          "name": "stdout",
          "text": [
            "['2', '19', '42']\n",
            "[]\n"
          ]
        }
      ],
      "source": [
        "import re\n",
        "x = 'My 2 favorite numbers are 19 and 42'\n",
        "y = re.findall('[0-9]+',x)\n",
        "print(y)\n",
        "y = re.findall('[AEIOU]',x)\n",
        "print(y)"
      ]
    }
  ]
}
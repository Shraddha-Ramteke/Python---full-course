{
  "nbformat": 4,
  "nbformat_minor": 0,
  "metadata": {
    "colab": {
      "name": "Untitled1.ipynb",
      "provenance": [],
      "collapsed_sections": [],
      "authorship_tag": "ABX9TyNz8RuyUrWS7VN3fd9rGa4x",
      "include_colab_link": true
    },
    "kernelspec": {
      "name": "python3",
      "display_name": "Python 3"
    },
    "language_info": {
      "name": "python"
    }
  },
  "cells": [
    {
      "cell_type": "markdown",
      "metadata": {
        "id": "view-in-github",
        "colab_type": "text"
      },
      "source": [
        "<a href=\"https://colab.research.google.com/github/Shraddha-Ramteke/Python-For-Everybody/blob/main/Exercise1.ipynb\" target=\"_parent\"><img src=\"https://colab.research.google.com/assets/colab-badge.svg\" alt=\"Open In Colab\"/></a>"
      ]
    },
    {
      "cell_type": "markdown",
      "source": [
        "1.1  **Introduction**\n",
        "# What is a program?\n",
        "-> The definition of a program at its most basic is a sequence of Python statements that have been crafted to do something. Even our simple hello.py script is a program. It is a one-line program and is not particularly useful, but in the strictest definition, it is a Python program.\n",
        "\n"
      ],
      "metadata": {
        "id": "c2101EmUtt7h"
      }
    },
    {
      "cell_type": "code",
      "source": [
        "1. #What is wrong with the following code:\n",
        "\n",
        "    #>>> primt 'Hello world!'\n",
        "      #File \"<stdin>\", line 1\n",
        "       # primt 'Hello world!'\n",
        "       #                    ^\n",
        "   # SyntaxError: invalid syntax\n",
        "    #>>>'''\n",
        "\n",
        "#Here the print is written as \"primt\"\n",
        "\n",
        "print(\"Hello world!\")"
      ],
      "metadata": {
        "colab": {
          "base_uri": "https://localhost:8080/"
        },
        "id": "-t9J9Fo8ueC7",
        "outputId": "4e016b29-ba37-43c3-d5ab-5d877f2ea956"
      },
      "execution_count": 3,
      "outputs": [
        {
          "output_type": "stream",
          "name": "stdout",
          "text": [
            "Hello world!\n"
          ]
        }
      ]
    },
    {
      "cell_type": "code",
      "execution_count": 6,
      "metadata": {
        "colab": {
          "base_uri": "https://localhost:8080/"
        },
        "id": "epru701qtPqr",
        "outputId": "7ce5f68b-520f-4f42-c573-04e7bcb153b6"
      },
      "outputs": [
        {
          "output_type": "stream",
          "name": "stdout",
          "text": [
            "44\n"
          ]
        }
      ],
      "source": [
        "2. #What will the following program print out:\n",
        "\n",
        "x = 43\n",
        "x = x+1\n",
        "print(x)"
      ]
    },
    {
      "cell_type": "markdown",
      "source": [
        ""
      ],
      "metadata": {
        "id": "0jPWvjJVtRdP"
      }
    }
  ]
}
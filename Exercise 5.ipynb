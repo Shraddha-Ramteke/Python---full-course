{
  "nbformat": 4,
  "nbformat_minor": 0,
  "metadata": {
    "colab": {
      "name": "Untitled5.ipynb",
      "provenance": [],
      "collapsed_sections": [],
      "authorship_tag": "ABX9TyOejlwPf7J7/AqLm5dc/8lL",
      "include_colab_link": true
    },
    "kernelspec": {
      "name": "python3",
      "display_name": "Python 3"
    },
    "language_info": {
      "name": "python"
    }
  },
  "cells": [
    {
      "cell_type": "markdown",
      "metadata": {
        "id": "view-in-github",
        "colab_type": "text"
      },
      "source": [
        "<a href=\"https://colab.research.google.com/github/Shraddha-Ramteke/Python-For-Everybody/blob/main/Exercise%205.ipynb\" target=\"_parent\"><img src=\"https://colab.research.google.com/assets/colab-badge.svg\" alt=\"Open In Colab\"/></a>"
      ]
    },
    {
      "cell_type": "markdown",
      "source": [
        "# **Iterations**"
      ],
      "metadata": {
        "id": "_0jR1mmvr2HV"
      }
    },
    {
      "cell_type": "code",
      "execution_count": 5,
      "metadata": {
        "colab": {
          "base_uri": "https://localhost:8080/"
        },
        "id": "GtCIb4XaowLS",
        "outputId": "24af926c-d991-4dc2-c16b-09a210594fe1"
      },
      "outputs": [
        {
          "output_type": "stream",
          "name": "stdout",
          "text": [
            "Enter a number : 4\n",
            "Enter a number : 5\n",
            "Enter a number : bad data\n",
            "Invailed Input\n",
            "Enter a number : 7\n",
            "Enter a number : done\n",
            "all done\n",
            "16.0 3 5.333333333333333\n"
          ]
        }
      ],
      "source": [
        "1.# Write a program which repeatedly reads numbers until the user enters \"done\". Once \"done\" is entered, print out the total, count, and average of the numbers. If the user enters anything other than a number, detect their mistake using try and except and print an error message and skip to the next number.\n",
        "\n",
        "'''Enter a number: 4\n",
        "Enter a number: 5\n",
        "Enter a number: bad data\n",
        "Invalid input\n",
        "Enter a number: 7\n",
        "Enter a number: done\n",
        "16 3 5.333333333333333'''\n",
        "\n",
        "num = 0\n",
        "tot = 0.0\n",
        "while True:\n",
        "    number = input(\"Enter a number : \")\n",
        "    if number == 'done':\n",
        "        break\n",
        "    try :\n",
        "        num1 = float(number)\n",
        "    except:\n",
        "        print('Invailed Input')\n",
        "        continue\n",
        "    num = num+1\n",
        "    tot = tot + num1\n",
        "print ('all done')\n",
        "print (tot,num,tot/num)"
      ]
    },
    {
      "cell_type": "code",
      "source": [
        ""
      ],
      "metadata": {
        "id": "6__FxCqTthDh"
      },
      "execution_count": null,
      "outputs": []
    }
  ]
}
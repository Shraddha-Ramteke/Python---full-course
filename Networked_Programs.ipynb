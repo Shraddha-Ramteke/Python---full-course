{
  "nbformat": 4,
  "nbformat_minor": 0,
  "metadata": {
    "colab": {
      "name": "Networked Programs.ipynb",
      "provenance": [],
      "authorship_tag": "ABX9TyNRklGP3IWeQw5NLJjqiA5r",
      "include_colab_link": true
    },
    "kernelspec": {
      "name": "python3",
      "display_name": "Python 3"
    },
    "language_info": {
      "name": "python"
    }
  },
  "cells": [
    {
      "cell_type": "markdown",
      "metadata": {
        "id": "view-in-github",
        "colab_type": "text"
      },
      "source": [
        "<a href=\"https://colab.research.google.com/github/Shraddha-Ramteke/Python-For-Everybody/blob/main/Networked_Programs.ipynb\" target=\"_parent\"><img src=\"https://colab.research.google.com/assets/colab-badge.svg\" alt=\"Open In Colab\"/></a>"
      ]
    },
    {
      "cell_type": "markdown",
      "source": [
        "# **Networked Programs**\n",
        "###                        The network protocol that powers the web is actually quite simple and there is built-in support in Python called sockets which makes it very easy to make network connections and retrieve data over those sockets in a Python program.\n",
        "\n",
        "A socket is much like a file, except that a single socket provides a two-way connection between two programs. You can both read from and write to the same socket. If you write something to a socket, it is sent to the application at the other end of the socket. If you read from the socket, you are given the data which the other application has sent.\n",
        "\n",
        "But if you try to read a socket when the program on the other end of the socket has not sent any data, you just sit and wait. If the programs on both ends of the socket simply wait for some data without sending anything, they will wait for a very long time.\n",
        "\n",
        "So an important part of programs that communicate over the Internet is to have some sort of protocol. A protocol is a set of precise rules that determine who is to go first, what they are to do, and then what the responses are to that message, and who sends next, and so on. In a sense the two applications at either end of the socket are doing a dance and making sure not to step on each other's toes."
      ],
      "metadata": {
        "id": "GxCsHmfR5K1d"
      }
    },
    {
      "cell_type": "markdown",
      "source": [
        "# **TCP Connection / Sockets**\n",
        "# In computer networking , an internet socket or network socket is an endpoint of a bidirectional inter-process communication flow across an internet protocol - based computer network such as the \"internet\".\n",
        "                  "
      ],
      "metadata": {
        "id": "Lsp5_ANx5dOS"
      }
    },
    {
      "cell_type": "markdown",
      "source": [
        "# **HTTP**\n",
        "# The **H**yper **T**ext **T**ransfer **P**rotocol is the set of rules to allow browsers to retrieve web documents from servers over the internet.\n",
        "\n",
        "# **What is Protocol ->**\n",
        "#                A set of rules that all parties follow so we can predict each other's behaviour and not bump into each other."
      ],
      "metadata": {
        "id": "xq0f2kILBZC2"
      }
    },
    {
      "cell_type": "markdown",
      "source": [
        "# An HTTP request in python"
      ],
      "metadata": {
        "id": "nJmhdxj3BPZJ"
      }
    },
    {
      "cell_type": "code",
      "execution_count": 6,
      "metadata": {
        "colab": {
          "base_uri": "https://localhost:8080/"
        },
        "id": "7sWgZCGN4CRJ",
        "outputId": "833a40b1-9f5d-4d06-83a0-65aa0b074d25"
      },
      "outputs": [
        {
          "output_type": "stream",
          "name": "stdout",
          "text": [
            "HTTP/1.1 400 Bad Request\r\n",
            "Date: Thu, 24 Feb 2022 13:54:11 GMT\r\n",
            "Server: Apache/2.4.18 (Ubuntu)\r\n",
            "Content-Length: 308\r\n",
            "Connection: close\r\n",
            "Content-Type: text/html; charset=iso-8859-1\r\n",
            "\r\n",
            "<!DOCTYPE HTML PUBLIC \"-//IETF//DTD HTML 2.0//EN\">\n",
            "<html><head>\n",
            "<title>400 Bad Request</title>\n",
            "</head><body>\n",
            "<h1>Bad Request</h1>\n",
            "<p>Your browser sent a request that this server could not understand.<br />\n",
            "</p>\n",
            "<hr>\n",
            "<address>Apache/2.4.18 (Ubuntu) Server at do1.dr-chuck.com Port 80</address>\n",
            "</body></html>\n",
            "\n"
          ]
        }
      ],
      "source": [
        "import socket\n",
        "\n",
        "mysock = socket.socket(socket.AF_INET, socket.SOCK_STREAM)\n",
        "mysock.connect(('data.pr4e.org',80))\n",
        "cmd = 'GET http://data.pr4e.org/romeo.txt HTTP/1.0\\n\\n'.encode()\n",
        "mysock.send(cmd)\n",
        "\n",
        "while True :\n",
        "  data = mysock.recv(512)\n",
        "  if(len(data)<1):\n",
        "    break\n",
        "  print(data.decode())\n",
        "mysock.close()  "
      ]
    },
    {
      "cell_type": "markdown",
      "source": [
        "# **Urllib**\n",
        "#            Science HTTP is so common , we have a library that does all the socket work for us and makes web pages look like a file. "
      ],
      "metadata": {
        "id": "Un-NXlQfDT71"
      }
    },
    {
      "cell_type": "code",
      "source": [
        "import urllib.request , urllib.parse, urllib.error\n",
        "\n",
        "fhand = urllib.request.urlopen('http://data.pr4e.org/romeo.txt')\n",
        "for line in fhand :\n",
        "  print(line.decode().strip())"
      ],
      "metadata": {
        "colab": {
          "base_uri": "https://localhost:8080/"
        },
        "id": "9Zp_1pXGEjhw",
        "outputId": "43cae961-24f0-48c5-99a1-3ee5a22f9d88"
      },
      "execution_count": 7,
      "outputs": [
        {
          "output_type": "stream",
          "name": "stdout",
          "text": [
            "But soft what light through yonder window breaks\n",
            "It is the east and Juliet is the sun\n",
            "Arise fair sun and kill the envious moon\n",
            "Who is already sick and pale with grief\n"
          ]
        }
      ]
    },
    {
      "cell_type": "code",
      "source": [
        "#like a file\n",
        "\n",
        "import urllib.request , urllib.parse, urllib.error\n",
        "\n",
        "fhand = urllib.request.urlopen('http://data.pr4e.org/romeo.txt')\n",
        "count = dict()\n",
        "for line in fhand :\n",
        "   words = line.decode().split()\n",
        "   for word in words :\n",
        "     count[word] = count.get(word,0)+1\n",
        "print(count)     "
      ],
      "metadata": {
        "colab": {
          "base_uri": "https://localhost:8080/"
        },
        "id": "7-RB8siVFRFB",
        "outputId": "de55db14-c230-496f-bc07-8904463aa0f0"
      },
      "execution_count": 8,
      "outputs": [
        {
          "output_type": "stream",
          "name": "stdout",
          "text": [
            "{'But': 1, 'soft': 1, 'what': 1, 'light': 1, 'through': 1, 'yonder': 1, 'window': 1, 'breaks': 1, 'It': 1, 'is': 3, 'the': 3, 'east': 1, 'and': 3, 'Juliet': 1, 'sun': 2, 'Arise': 1, 'fair': 1, 'kill': 1, 'envious': 1, 'moon': 1, 'Who': 1, 'already': 1, 'sick': 1, 'pale': 1, 'with': 1, 'grief': 1}\n"
          ]
        }
      ]
    },
    {
      "cell_type": "code",
      "source": [
        ""
      ],
      "metadata": {
        "id": "lmMtNMzfFQ4R"
      },
      "execution_count": null,
      "outputs": []
    }
  ]
}
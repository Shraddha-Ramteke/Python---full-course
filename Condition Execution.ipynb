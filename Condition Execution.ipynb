{
  "nbformat": 4,
  "nbformat_minor": 0,
  "metadata": {
    "colab": {
      "name": "Untitled3.ipynb",
      "provenance": [],
      "collapsed_sections": [],
      "authorship_tag": "ABX9TyOt1+6V/L9s95/aXx1yrXIF",
      "include_colab_link": true
    },
    "kernelspec": {
      "name": "python3",
      "display_name": "Python 3"
    },
    "language_info": {
      "name": "python"
    }
  },
  "cells": [
    {
      "cell_type": "markdown",
      "metadata": {
        "id": "view-in-github",
        "colab_type": "text"
      },
      "source": [
        "<a href=\"https://colab.research.google.com/github/Shraddha-Ramteke/Python-For-Everybody/blob/main/Condition%20Execution.ipynb\" target=\"_parent\"><img src=\"https://colab.research.google.com/assets/colab-badge.svg\" alt=\"Open In Colab\"/></a>"
      ]
    },
    {
      "cell_type": "markdown",
      "source": [
        "# **Conditional Execution**\n",
        " \n",
        " In order to write useful programs, we almost always need the ability to check conditions and change the behavior of the program accordingly. Conditional statements give us this ability. \n",
        "\n"
      ],
      "metadata": {
        "id": "RibgaiAOP2aF"
      }
    },
    {
      "cell_type": "code",
      "execution_count": null,
      "metadata": {
        "colab": {
          "base_uri": "https://localhost:8080/"
        },
        "id": "2GXS9FOjPnPt",
        "outputId": "278b69f6-679b-44d3-df4d-61878495d0d7"
      },
      "outputs": [
        {
          "output_type": "stream",
          "name": "stdout",
          "text": [
            " Enter the Hours : 45\n",
            " Enter the Rate : 10\n",
            "475.0\n"
          ]
        }
      ],
      "source": [
        "1.#Rewrite your pay computation to give the employee 1.5 times the hourly rate for hours worked above 40 hours.\n",
        "\n",
        "'''Enter Hours: 45\n",
        "Enter Rate: 10\n",
        "Pay: 475.0 '''\n",
        "\n",
        "x = float(input(\" Enter the Hours : \"))\n",
        "y = float(input(\" Enter the Rate : \"))\n",
        "if x<= 40 :\n",
        "  print (x*y)\n",
        "else:\n",
        "    print ((((x-40)*y)*1.5)+y*40)\n"
      ]
    },
    {
      "cell_type": "code",
      "source": [
        "2. # Rewrite your pay program using try and except so that your program handles non-numeric input gracefully by printing a message and exiting the program. The following shows two executions of the program:\n",
        "\n",
        "'''Enter Hours: 20\n",
        "Enter Rate: nine\n",
        "Error, please enter numeric input\n",
        "\n",
        "Enter Hours: forty\n",
        "Error, please enter numeric input'''\n",
        "\n",
        "x = input (\" Enter the Hours : \")\n",
        "y = input (\" Enter the rate : \")\n",
        "try:\n",
        "  hour = float (x)\n",
        "  rate = float (y)\n",
        "except:\n",
        "  print (\"Error, please enter numeric input\")   \n",
        "  exit()\n",
        "if hour<=40:\n",
        "  print( hour*rate )  \n",
        "else:\n",
        "  print((((hour-40)*rate)*1.5)+rate*40) \n",
        "\n"
      ],
      "metadata": {
        "colab": {
          "base_uri": "https://localhost:8080/"
        },
        "id": "s6NGcCwveAwv",
        "outputId": "bd174da1-8166-4674-ae1f-c7739d284988"
      },
      "execution_count": null,
      "outputs": [
        {
          "output_type": "stream",
          "name": "stdout",
          "text": [
            " Enter the Hours : 20\n",
            " Enter the rate : nine\n",
            "Error, please enter numeric input\n",
            "180.0\n"
          ]
        }
      ]
    },
    {
      "cell_type": "code",
      "source": [
        "3. # Write a program to prompt for a score between 0.0 and 1.0. If the score is out of range, print an error message. If the score is between 0.0 and 1.0, print a grade using the following table:\n",
        "\n",
        "'''Score   Grade\n",
        ">= 0.9     A\n",
        ">= 0.8     B\n",
        ">= 0.7     C\n",
        ">= 0.6     D\n",
        "< 0.6    F'''\n",
        "\n",
        "score = input(\"Enter Score: \")\n",
        "s = float(score)\n",
        "\n",
        "if(s<0.0) or (s>1.0) :\n",
        " print(\"the score is out of range\")\n",
        " quit()\n",
        "\n",
        "elif (s>= 0.9) & (s<= 1.0) :\n",
        " print(\"A\")\n",
        "elif (s>=0.8) & (s<=1.0):\n",
        " print(\"B\")\n",
        "elif (s>=0.7) & (s<=1.0):\n",
        " print(\"C\")\n",
        "elif (s>=0.6) & (s<=1.0) :\n",
        " print(\"D\")\n",
        "else :\n",
        " print(\"F\")"
      ],
      "metadata": {
        "colab": {
          "base_uri": "https://localhost:8080/"
        },
        "id": "_e6UhLMoiFwD",
        "outputId": "bcdcd9d9-6422-44e0-fdd8-0b7943bb4f01"
      },
      "execution_count": null,
      "outputs": [
        {
          "output_type": "stream",
          "name": "stdout",
          "text": [
            "Enter Score: 0.8\n",
            "B\n"
          ]
        }
      ]
    }
  ]
}
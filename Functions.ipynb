{
  "nbformat": 4,
  "nbformat_minor": 0,
  "metadata": {
    "colab": {
      "name": "Untitled4.ipynb",
      "provenance": [],
      "collapsed_sections": [],
      "authorship_tag": "ABX9TyP5luVpLqaPIncYp1QSVVpc",
      "include_colab_link": true
    },
    "kernelspec": {
      "name": "python3",
      "display_name": "Python 3"
    },
    "language_info": {
      "name": "python"
    }
  },
  "cells": [
    {
      "cell_type": "markdown",
      "metadata": {
        "id": "view-in-github",
        "colab_type": "text"
      },
      "source": [
        "<a href=\"https://colab.research.google.com/github/Shraddha-Ramteke/Python-For-Everybody/blob/main/Functions.ipynb\" target=\"_parent\"><img src=\"https://colab.research.google.com/assets/colab-badge.svg\" alt=\"Open In Colab\"/></a>"
      ]
    },
    {
      "cell_type": "markdown",
      "source": [
        "# **Functions**\n"
      ],
      "metadata": {
        "id": "PNVpemxNliwk"
      }
    },
    {
      "cell_type": "code",
      "execution_count": null,
      "metadata": {
        "colab": {
          "base_uri": "https://localhost:8080/"
        },
        "id": "cxisgOe8leSI",
        "outputId": "a54be38f-4e0b-4e5a-8597-30a08c138cb1"
      },
      "outputs": [
        {
          "output_type": "stream",
          "name": "stdout",
          "text": [
            "ABC\n",
            "Zap\n",
            "ABC\n"
          ]
        }
      ],
      "source": [
        "1. #What will the following Python program print out?\n",
        "\n",
        "def fred():\n",
        "   print(\"Zap\")\n",
        "\n",
        "def jane():\n",
        "   print(\"ABC\")\n",
        "\n",
        "jane()\n",
        "fred()\n",
        "jane()"
      ]
    },
    {
      "cell_type": "code",
      "source": [
        "2. #  Rewrite your pay computation with time-and-a-half for overtime and create a function called computepay which takes two parameters (hours and rate).\n",
        "\n",
        "'''Enter Hours: 45\n",
        "Enter Rate: 10\n",
        "Pay: 475.0 '''\n",
        "\n",
        "hours = int(input('Enter hours:'))\n",
        "rate =  int(input('Enter rate:'))\n",
        "pay =('Your pay this month' + str((hours + hours/2) * rate))\n",
        "def computepay(hours,rate):\n",
        "  pay = (' Your pay this month ' + str((hours + hours/2) * rate))\n",
        "  return pay \n",
        "\n",
        "print(pay)"
      ],
      "metadata": {
        "colab": {
          "base_uri": "https://localhost:8080/"
        },
        "id": "JIM2lqwYl0Up",
        "outputId": "e0bc7c34-6fdd-447c-c6fd-5f5aea336330"
      },
      "execution_count": null,
      "outputs": [
        {
          "output_type": "stream",
          "name": "stdout",
          "text": [
            "Enter hours:45\n",
            "Enter rate:10\n",
            "Your pay this month675.0\n"
          ]
        }
      ]
    }
  ]
}